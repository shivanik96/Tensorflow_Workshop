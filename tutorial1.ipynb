{
  "nbformat": 4,
  "nbformat_minor": 0,
  "metadata": {
    "colab": {
      "name": "tutorial1.ipynb",
      "version": "0.3.2",
      "provenance": [],
      "include_colab_link": true
    },
    "kernelspec": {
      "name": "python3",
      "display_name": "Python 3"
    },
    "accelerator": "GPU"
  },
  "cells": [
    {
      "cell_type": "markdown",
      "metadata": {
        "id": "view-in-github",
        "colab_type": "text"
      },
      "source": [
        "<a href=\"https://colab.research.google.com/github/shivanik96/Tensorflow_Workshop/blob/master/tutorial1.ipynb\" target=\"_parent\"><img src=\"https://colab.research.google.com/assets/colab-badge.svg\" alt=\"Open In Colab\"/></a>"
      ]
    },
    {
      "metadata": {
        "id": "Sl3WMYWDAX46",
        "colab_type": "code",
        "colab": {}
      },
      "cell_type": "code",
      "source": [
        "print(\"Hello World\")"
      ],
      "execution_count": 0,
      "outputs": []
    },
    {
      "metadata": {
        "id": "UzKmbbNYDRLt",
        "colab_type": "code",
        "colab": {}
      },
      "cell_type": "code",
      "source": [
        "import tensorflow"
      ],
      "execution_count": 0,
      "outputs": []
    },
    {
      "metadata": {
        "id": "r0Rx3cOMD86s",
        "colab_type": "text"
      },
      "cell_type": "markdown",
      "source": [
        "Text uses the markdown language"
      ]
    },
    {
      "metadata": {
        "id": "sNwz6tWeDWdj",
        "colab_type": "code",
        "colab": {
          "base_uri": "https://localhost:8080/",
          "height": 127
        },
        "outputId": "9a2375db-5e04-4150-a704-069c97316d45"
      },
      "cell_type": "code",
      "source": [
        "from google.colab import drive\n",
        "drive.mount(\"/content/drive/\")"
      ],
      "execution_count": 3,
      "outputs": [
        {
          "output_type": "stream",
          "text": [
            "Go to this URL in a browser: https://accounts.google.com/o/oauth2/auth?client_id=947318989803-6bn6qk8qdgf4n4g3pfee6491hc0brc4i.apps.googleusercontent.com&redirect_uri=urn%3Aietf%3Awg%3Aoauth%3A2.0%3Aoob&scope=email%20https%3A%2F%2Fwww.googleapis.com%2Fauth%2Fdocs.test%20https%3A%2F%2Fwww.googleapis.com%2Fauth%2Fdrive%20https%3A%2F%2Fwww.googleapis.com%2Fauth%2Fdrive.photos.readonly%20https%3A%2F%2Fwww.googleapis.com%2Fauth%2Fpeopleapi.readonly&response_type=code\n",
            "\n",
            "Enter your authorization code:\n",
            "··········\n",
            "Mounted at /content/drive/\n"
          ],
          "name": "stdout"
        }
      ]
    },
    {
      "metadata": {
        "id": "-9FdtWRrEbrJ",
        "colab_type": "code",
        "colab": {
          "base_uri": "https://localhost:8080/",
          "height": 1349
        },
        "outputId": "6e7ef624-8103-4028-f5b8-95cb58196c3b"
      },
      "cell_type": "code",
      "source": [
        "!ls \"/content/drive/My Drive/\""
      ],
      "execution_count": 4,
      "outputs": [
        {
          "output_type": "stream",
          "text": [
            "'10th marksheet comp.jpg'\n",
            "'10th marksheet comp - shivani kumar.jpg'\n",
            " 712.c\n",
            " 75.c\n",
            "'Alexa and Google Database.gsheet'\n",
            " alexa.wlmp\n",
            "'Analysis of Textbooks.gsheet'\n",
            " bibliography.bib\n",
            " bipartite_graph_zoom1.png\n",
            "'Brochure 18-19.pdf'\n",
            " Brochure.pdf\n",
            "'CodeAthon-Event Update.docx'\n",
            "'Colab Notebooks'\n",
            "'Copy of CodeAthon-Event Update.docx'\n",
            "'Copy of CodeAthon-Event Update.gdoc'\n",
            "'Copy of Procedure.gdraw'\n",
            " Cyphermains.docx\n",
            " Cyphermains.docx.gdoc\n",
            "'Cypher-o-more 2019 Intra Mains Draft1.gdoc'\n",
            "'Cypher-o-more 2019 Intra Prelims Answers.gdoc'\n",
            "'Cypher-o-more 2019 Intra Prelims.gdoc'\n",
            "'cypher-o-more ideas.docx'\n",
            "'cypher-o-more ideas.docx.gdoc'\n",
            "'Cypher-O-More Questions Draft 1.gdoc'\n",
            "'Data for Placement Brochure.gform'\n",
            "'Data for Placement Brochure (Responses).gsheet'\n",
            "'Day2 Session2.gdoc'\n",
            "'Department Brochure'\n",
            "'DRDO- dare to dream?.gdoc'\n",
            "'DUCS Video.wmv'\n",
            " file.txt\n",
            " Final.wmv\n",
            " folderview.gdraw\n",
            " fork2.c\n",
            " fork.c\n",
            " fourpdf.gdraw\n",
            " granularitylevel1.gdraw\n",
            " granularitylevel2.gdraw\n",
            "'graph1 (1).csv'\n",
            " graph1.csv\n",
            "'Group 10_ assignment1'\n",
            " Group10_assignment1\n",
            "'marksheet 12th.jpg'\n",
            "'marksheet 12th - shivani kumar.jpg'\n",
            "'Mind Matters-Event Update.gdoc'\n",
            "'MInor Project'\n",
            "'mm2019 (1).gslides'\n",
            " mm2019.gslides\n",
            "'Molecular Comm - 43(2).docx.gdoc'\n",
            "'Molecular Communication.docx'\n",
            "'Molecular Communication.docx.gdoc'\n",
            "'Network Science Assignment-1 Groups.gdoc'\n",
            " new.c\n",
            "'NS Assignment'\n",
            "'NS Slides'\n",
            " output_fork2.txt\n",
            " output_fork3.txt\n",
            " output_fork.txt\n",
            " p3p.cpp\n",
            " prelims-final.docx\n",
            " prelims-final.gdoc\n",
            " Procedure.gdraw\n",
            " Result-1.jpg\n",
            "'Result-1 - shivani kumar.jpg'\n",
            " Result-2.jpg\n",
            "'Result-2 - shivani kumar.jpg'\n",
            " Result.pdf\n",
            " shivaniresume.pdf\n",
            " signal1.txt\n",
            " TA_PPT.zip\n",
            " Tensorflow_Tutorial\n",
            "'Untitled drawing.gdraw'\n",
            "'Untitled Report'\n",
            " Yearbook.gslides\n"
          ],
          "name": "stdout"
        }
      ]
    },
    {
      "metadata": {
        "id": "QRVhx58wFl9z",
        "colab_type": "code",
        "colab": {
          "base_uri": "https://localhost:8080/",
          "height": 35
        },
        "outputId": "759772ee-de34-4f15-b4a4-25f562e510d9"
      },
      "cell_type": "code",
      "source": [
        "!ls ./"
      ],
      "execution_count": 5,
      "outputs": [
        {
          "output_type": "stream",
          "text": [
            "drive  sample_data\n"
          ],
          "name": "stdout"
        }
      ]
    },
    {
      "metadata": {
        "id": "OzgveijJFqNP",
        "colab_type": "code",
        "colab": {
          "base_uri": "https://localhost:8080/",
          "height": 71
        },
        "outputId": "2b121fbc-f407-400f-8ed7-61011eb79760"
      },
      "cell_type": "code",
      "source": [
        "import os\n",
        "print(os.getcwd())\n",
        "%cd(\"./drive/My Drive/Tensorflow_Tutorial/\")"
      ],
      "execution_count": 10,
      "outputs": [
        {
          "output_type": "stream",
          "text": [
            "/content\n",
            "[Errno 2] No such file or directory: '(./drive/My Drive/Tensorflow_Tutorial/)'\n",
            "/content\n"
          ],
          "name": "stdout"
        }
      ]
    },
    {
      "metadata": {
        "id": "VVDYJ5_jGyVQ",
        "colab_type": "code",
        "colab": {
          "base_uri": "https://localhost:8080/",
          "height": 53
        },
        "outputId": "33b3604e-a9cd-471b-8385-b9ce0259830d"
      },
      "cell_type": "code",
      "source": [
        "! git clone https://github.com/shivanik96/Tensorflow_Workshop.git"
      ],
      "execution_count": 11,
      "outputs": [
        {
          "output_type": "stream",
          "text": [
            "Cloning into 'Tensorflow_Workshop'...\n",
            "warning: You appear to have cloned an empty repository.\n"
          ],
          "name": "stdout"
        }
      ]
    },
    {
      "metadata": {
        "id": "DIivSnMoIhUM",
        "colab_type": "code",
        "colab": {}
      },
      "cell_type": "code",
      "source": [
        ""
      ],
      "execution_count": 0,
      "outputs": []
    }
  ]
}